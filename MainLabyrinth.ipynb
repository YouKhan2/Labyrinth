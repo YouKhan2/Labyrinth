{
 "cells": [
  {
   "cell_type": "code",
   "execution_count": 2,
   "metadata": {},
   "outputs": [],
   "source": [
    "from HelperLabyrinth import *"
   ]
  },
  {
   "cell_type": "markdown",
   "metadata": {},
   "source": [
    "Generate a labyrinth"
   ]
  },
  {
   "cell_type": "code",
   "execution_count": 5,
   "metadata": {},
   "outputs": [
    {
     "name": "stdout",
     "output_type": "stream",
     "text": [
      "+---+---+---+---+---+\n",
      "    |   |   |       |\n",
      "+   +   +   +---+   +\n",
      "|           |   |   |\n",
      "+---+---+   +   +   +\n",
      "|   |       |       |\n",
      "+   +   +---+   +---+\n",
      "|       |       |   |\n",
      "+   +---+---+   +   +\n",
      "|                    \n",
      "+---+---+---+---+---+\n"
     ]
    }
   ],
   "source": [
    "labyrinth=Generation(5,5)\n",
    "labyrinth.fusion1()\n",
    "labyrinth.show()"
   ]
  },
  {
   "cell_type": "markdown",
   "metadata": {},
   "source": [
    "Solve it"
   ]
  },
  {
   "cell_type": "code",
   "execution_count": 6,
   "metadata": {},
   "outputs": [
    {
     "name": "stdout",
     "output_type": "stream",
     "text": [
      "+---+---+---+---+---+\n",
      "  x |   |   |       |\n",
      "+   +   +   +---+   +\n",
      "| x   x   x |   |   |\n",
      "+---+---+   +   +   +\n",
      "| x | x   x |       |\n",
      "+   +   +---+   +---+\n",
      "| x   x |       |   |\n",
      "+   +---+---+   +   +\n",
      "| x   x   x   x   x  \n",
      "+---+---+---+---+---+\n"
     ]
    }
   ],
   "source": [
    "\n",
    "solution = Resolution(labyrinth).resoudre(1)\n",
    "labyrinth.show(solution)"
   ]
  },
  {
   "cell_type": "markdown",
   "metadata": {},
   "source": [
    "# The end"
   ]
  }
 ],
 "metadata": {
  "kernelspec": {
   "display_name": "Python 3",
   "language": "python",
   "name": "python3"
  },
  "language_info": {
   "codemirror_mode": {
    "name": "ipython",
    "version": 3
   },
   "file_extension": ".py",
   "mimetype": "text/x-python",
   "name": "python",
   "nbconvert_exporter": "python",
   "pygments_lexer": "ipython3",
   "version": "3.9.13"
  }
 },
 "nbformat": 4,
 "nbformat_minor": 2
}
